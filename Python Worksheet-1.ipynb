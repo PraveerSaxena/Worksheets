{
 "cells": [
  {
   "cell_type": "markdown",
   "metadata": {},
   "source": [
    "# Python Programming Worksheet"
   ]
  },
  {
   "cell_type": "markdown",
   "metadata": {},
   "source": [
    "1.\tC) %\n",
    "2.\tB) 0\n",
    "3.\tC) 24\n",
    "4.\tA) 2\n",
    "5.\tAnswer will be 6 due to bit wise OR operation, the option is not given\n",
    "6.\tC) the finally block will be executed no matter if the try block raises an error or not.\n",
    "7.\tA) It is used to raise an exception.\n",
    "8.\tC) in defining a generator\n",
    "9.\tA) _abc  and C) abc2\n",
    "10.\tA) yield and B) raise"
   ]
  },
  {
   "cell_type": "markdown",
   "metadata": {},
   "source": [
    "# 11.\tWrite a python program to find the factorial of a number. "
   ]
  },
  {
   "cell_type": "code",
   "execution_count": 11,
   "metadata": {},
   "outputs": [],
   "source": [
    "def factorial(n):\n",
    "    product=1\n",
    "    for i in range(n):\n",
    "        product = product * n\n",
    "        n = n-1\n",
    "    return product\n",
    "        \n",
    "    "
   ]
  },
  {
   "cell_type": "code",
   "execution_count": 12,
   "metadata": {},
   "outputs": [
    {
     "data": {
      "text/plain": [
       "720"
      ]
     },
     "execution_count": 12,
     "metadata": {},
     "output_type": "execute_result"
    }
   ],
   "source": [
    "factorial(6)"
   ]
  },
  {
   "cell_type": "markdown",
   "metadata": {},
   "source": [
    "# 12. Write a python program to find whether a number is prime or composite."
   ]
  },
  {
   "cell_type": "code",
   "execution_count": 66,
   "metadata": {},
   "outputs": [],
   "source": [
    "def prime_composite(n):\n",
    "    if n in (0,1):\n",
    "        print('the number is neither prime nor composite')\n",
    "    elif n==2:\n",
    "        print('the number is prime')\n",
    "    else:\n",
    "        if n>2:\n",
    "            for i in range(2,n):\n",
    "                if n%i == 0:\n",
    "                    print('the number is composite')\n",
    "                    break\n",
    "            else:              \n",
    "                print('the number is prime')\n",
    "            "
   ]
  },
  {
   "cell_type": "code",
   "execution_count": 67,
   "metadata": {},
   "outputs": [
    {
     "name": "stdout",
     "output_type": "stream",
     "text": [
      "the number is prime\n"
     ]
    }
   ],
   "source": [
    "prime_composite(7)"
   ]
  },
  {
   "cell_type": "code",
   "execution_count": 68,
   "metadata": {},
   "outputs": [
    {
     "name": "stdout",
     "output_type": "stream",
     "text": [
      "the number is composite\n"
     ]
    }
   ],
   "source": [
    "prime_composite(6)"
   ]
  },
  {
   "cell_type": "code",
   "execution_count": 69,
   "metadata": {},
   "outputs": [
    {
     "name": "stdout",
     "output_type": "stream",
     "text": [
      "the number is prime\n"
     ]
    }
   ],
   "source": [
    "prime_composite(2)"
   ]
  },
  {
   "cell_type": "markdown",
   "metadata": {},
   "source": [
    "# 13. Write a python program to check whether a given string is palindrome or not."
   ]
  },
  {
   "cell_type": "code",
   "execution_count": 74,
   "metadata": {},
   "outputs": [],
   "source": [
    "def palindrome():\n",
    "    x = input('enter the required string : ')\n",
    "    reverse_x = x[::-1]\n",
    "    if x == reverse_x:\n",
    "        print('the given string is palindrome')\n",
    "    else:\n",
    "        print('the  given string is not palindrome')"
   ]
  },
  {
   "cell_type": "code",
   "execution_count": 75,
   "metadata": {},
   "outputs": [
    {
     "name": "stdout",
     "output_type": "stream",
     "text": [
      "enter the required string : car\n",
      "the  given string is not palindrome\n"
     ]
    }
   ],
   "source": [
    "palindrome()"
   ]
  },
  {
   "cell_type": "code",
   "execution_count": 76,
   "metadata": {
    "scrolled": true
   },
   "outputs": [
    {
     "name": "stdout",
     "output_type": "stream",
     "text": [
      "enter the required string : amma\n",
      "the given string is palindrome\n"
     ]
    }
   ],
   "source": [
    "palindrome()"
   ]
  },
  {
   "cell_type": "code",
   "execution_count": 77,
   "metadata": {},
   "outputs": [
    {
     "name": "stdout",
     "output_type": "stream",
     "text": [
      "enter the required string : sas\n",
      "the given string is palindrome\n"
     ]
    }
   ],
   "source": [
    "palindrome()\n"
   ]
  },
  {
   "cell_type": "markdown",
   "metadata": {},
   "source": [
    "# 14. Write a Python program to get the third side of right-angled triangle from two given sides."
   ]
  },
  {
   "cell_type": "code",
   "execution_count": 79,
   "metadata": {},
   "outputs": [],
   "source": [
    "import numpy as np"
   ]
  },
  {
   "cell_type": "code",
   "execution_count": 85,
   "metadata": {},
   "outputs": [],
   "source": [
    "def pythagoras(opposite_side,adjacent_side,hypotenuse):\n",
    "        if opposite_side == str(\"x\"):\n",
    "            return (\"Opposite = \"+str(np.sqrt((hypotenuse**2) - (adjacent_side**2))))\n",
    "        elif adjacent_side == str(\"x\"):\n",
    "            return (\"Adjacent = \"+str(np.sqrt((hypotenuse**2) - (opposite_side**2))))\n",
    "        else:\n",
    "            return (\"Hypotenuse = \"+str(np.sqrt((opposite_side**2) + (adjacent_side**2))))    \n",
    "    \n",
    "\n"
   ]
  },
  {
   "cell_type": "code",
   "execution_count": 86,
   "metadata": {},
   "outputs": [
    {
     "name": "stdout",
     "output_type": "stream",
     "text": [
      "Hypotenuse = 5.0\n",
      "Adjacent = 4.0\n",
      "Opposite = 3.0\n"
     ]
    }
   ],
   "source": [
    "print(pythagoras(3,4,'x'))\n",
    "print(pythagoras(3,'x',5))\n",
    "print(pythagoras('x',4,5))"
   ]
  },
  {
   "cell_type": "markdown",
   "metadata": {},
   "source": [
    "# 15. Write a python program to print the frequency of each of the characters present in a given string."
   ]
  },
  {
   "cell_type": "code",
   "execution_count": 103,
   "metadata": {},
   "outputs": [],
   "source": [
    "def frequency():\n",
    "    string = input('enter the string : ')\n",
    "    unique = set(string)\n",
    "    length = len(string)\n",
    "    for i in  unique:\n",
    "        count = 0\n",
    "        for x in range(length):\n",
    "            if i == string[x]:\n",
    "                count = count + 1\n",
    "        print ('the frequency of charater {} is {}'.format(i,count))\n",
    "        \n",
    "    "
   ]
  },
  {
   "cell_type": "code",
   "execution_count": 104,
   "metadata": {},
   "outputs": [
    {
     "name": "stdout",
     "output_type": "stream",
     "text": [
      "enter the string : hello\n",
      "the frequency of charater l is 2\n",
      "the frequency of charater h is 1\n",
      "the frequency of charater o is 1\n",
      "the frequency of charater e is 1\n"
     ]
    }
   ],
   "source": [
    "frequency()"
   ]
  },
  {
   "cell_type": "code",
   "execution_count": 105,
   "metadata": {},
   "outputs": [
    {
     "name": "stdout",
     "output_type": "stream",
     "text": [
      "enter the string : apple\n",
      "the frequency of charater a is 1\n",
      "the frequency of charater l is 1\n",
      "the frequency of charater p is 2\n",
      "the frequency of charater e is 1\n"
     ]
    }
   ],
   "source": [
    "frequency()"
   ]
  }
 ],
 "metadata": {
  "kernelspec": {
   "display_name": "Python 3",
   "language": "python",
   "name": "python3"
  },
  "language_info": {
   "codemirror_mode": {
    "name": "ipython",
    "version": 3
   },
   "file_extension": ".py",
   "mimetype": "text/x-python",
   "name": "python",
   "nbconvert_exporter": "python",
   "pygments_lexer": "ipython3",
   "version": "3.6.10"
  }
 },
 "nbformat": 4,
 "nbformat_minor": 4
}
