{
 "cells": [
  {
   "cell_type": "markdown",
   "metadata": {},
   "source": [
    "# WEB SCRAPING – WORKSHEET 2"
   ]
  },
  {
   "cell_type": "markdown",
   "metadata": {},
   "source": [
    "1.\tC) find_all()\n",
    "2.\tC) Unix\n",
    "3.\tC) ASP\n",
    "4.\tD) send_keys()\n",
    "5.\tB) Indexing\n",
    "6.\tC) Web-spider\n",
    "7.\tC) WebDriverWait\n",
    "8.\tA) title_contains\n",
    "9.\tC) XML\n",
    "10.\tB) find_element_by_id\n",
    "11.\tB) href\n",
    "12.\tC) lxml\n",
    "13.\tA) Selenium B) BeautifulSoup C) Requests \n"
   ]
  },
  {
   "cell_type": "markdown",
   "metadata": {},
   "source": [
    "# 14. Write a python program to scrap 10 images of Rayban Sunglasses from flipkart website and save them in a directory"
   ]
  },
  {
   "cell_type": "code",
   "execution_count": 1,
   "metadata": {},
   "outputs": [],
   "source": [
    "import pandas as pd\n",
    "import urllib.request\n",
    "import selenium\n",
    "import numpy as np\n",
    "from time import sleep\n",
    "from random import randint\n",
    "from selenium import webdriver as wb"
   ]
  },
  {
   "cell_type": "code",
   "execution_count": 2,
   "metadata": {},
   "outputs": [],
   "source": [
    "product={}\n",
    "product['image_urls']=[]\n",
    "driver=wb.Chrome('chromedriver.exe')\n",
    "driver.get('https://www.flipkart.com/search?q=ray+ban+sunglasses+men&sid=26x&as=on&as-show=on&otracker=AS_QueryStore_OrganicAutoSuggest_1_3_na_na_na&otracker1=AS_QueryStore_OrganicAutoSuggest_1_3_na_na_na&as-pos=1&as-type=RECENT&suggestionId=ray+ban+sunglasses+men%7CSunglasses&requestId=362f08d9-66e8-4a5e-ab4c-a3a10367cb4d&as-searchtext=ray&page=1')\n",
    "images=driver.find_elements_by_xpath(\"//img[@class='_3togXc']\")\n",
    "for image in images:\n",
    "    source =image.get_attribute('src')\n",
    "    product['image_urls'].append(source)\n",
    "sleep(randint(1,10))"
   ]
  },
  {
   "cell_type": "code",
   "execution_count": 3,
   "metadata": {},
   "outputs": [],
   "source": [
    "df = pd.DataFrame(product)"
   ]
  },
  {
   "cell_type": "code",
   "execution_count": 4,
   "metadata": {},
   "outputs": [],
   "source": [
    "df.to_csv('glasses.csv')"
   ]
  },
  {
   "cell_type": "code",
   "execution_count": 6,
   "metadata": {},
   "outputs": [
    {
     "name": "stdout",
     "output_type": "stream",
     "text": [
      "glasses-0.jpg saved\n",
      "glasses-1.jpg saved\n",
      "glasses-2.jpg saved\n",
      "glasses-3.jpg saved\n",
      "glasses-4.jpg saved\n",
      "glasses-5.jpg saved\n",
      "glasses-6.jpg saved\n",
      "glasses-7.jpg saved\n",
      "glasses-8.jpg saved\n",
      "glasses-9.jpg saved\n"
     ]
    }
   ],
   "source": [
    "def url_tO_jpg(i,url,file_path):\n",
    "    \n",
    "    filename = 'glasses-{}.jpg'.format(i)\n",
    "    fullpath = '{}{}'.format(file_path,filename)\n",
    "    urllib.request.urlretrieve(url,fullpath)\n",
    "    print('{} saved'.format(filename))\n",
    "    \n",
    "    return None\n",
    "\n",
    "Filename = 'glasses.csv'\n",
    "FilePath = 'glasses/'\n",
    "urls = pd.read_csv(Filename)\n",
    "\n",
    "for i,url in enumerate(urls.values):\n",
    "    if i<10:\n",
    "        url_tO_jpg(i,url[1],FilePath)"
   ]
  },
  {
   "cell_type": "markdown",
   "metadata": {},
   "source": [
    "# 15. Write a program to scrap 20 mouses’ data which includes model name, price from www.amazon.in whose price is less than 500 and make a data frame with 2 columns “model_name”,” price” with the scraped data."
   ]
  },
  {
   "cell_type": "code",
   "execution_count": 89,
   "metadata": {},
   "outputs": [],
   "source": [
    "mydriver=wb.Chrome('chromedriver.exe')\n",
    "mydriver.get('https://www.amazon.in/s?k=mouse+for+laptop&ref=nb_sb_noss')\n",
    "models = []\n",
    "prices = []\n",
    "modeld = mydriver.find_elements_by_xpath(\"//span[@class='a-size-medium a-color-base a-text-normal']\")\n",
    "for model in modeld:\n",
    "    models.append(model.text)\n",
    "priced = mydriver.find_elements_by_xpath(\"//span[@class='a-price-whole']\")\n",
    "for price in priced:\n",
    "    prices.append(price.text)\n"
   ]
  },
  {
   "cell_type": "code",
   "execution_count": 91,
   "metadata": {},
   "outputs": [],
   "source": [
    "dictn = {'model_name': models, 'Price': prices}"
   ]
  },
  {
   "cell_type": "code",
   "execution_count": 117,
   "metadata": {},
   "outputs": [],
   "source": [
    "newdict = {}"
   ]
  },
  {
   "cell_type": "code",
   "execution_count": 118,
   "metadata": {
    "scrolled": true
   },
   "outputs": [],
   "source": [
    "newdict['Price'] = dictn['Price'][0:19]\n",
    "newdict['Model'] = dictn['model_name'][0:19]"
   ]
  },
  {
   "cell_type": "code",
   "execution_count": 119,
   "metadata": {},
   "outputs": [],
   "source": [
    "import pandas as pd"
   ]
  },
  {
   "cell_type": "code",
   "execution_count": 120,
   "metadata": {},
   "outputs": [],
   "source": [
    "df = pd.DataFrame(newdict)"
   ]
  },
  {
   "cell_type": "code",
   "execution_count": 132,
   "metadata": {},
   "outputs": [
    {
     "data": {
      "text/html": [
       "<div>\n",
       "<style scoped>\n",
       "    .dataframe tbody tr th:only-of-type {\n",
       "        vertical-align: middle;\n",
       "    }\n",
       "\n",
       "    .dataframe tbody tr th {\n",
       "        vertical-align: top;\n",
       "    }\n",
       "\n",
       "    .dataframe thead th {\n",
       "        text-align: right;\n",
       "    }\n",
       "</style>\n",
       "<table border=\"1\" class=\"dataframe\">\n",
       "  <thead>\n",
       "    <tr style=\"text-align: right;\">\n",
       "      <th></th>\n",
       "      <th>Price</th>\n",
       "      <th>Model</th>\n",
       "    </tr>\n",
       "  </thead>\n",
       "  <tbody>\n",
       "    <tr>\n",
       "      <th>8</th>\n",
       "      <td></td>\n",
       "      <td>HP 200 Wireless Mouse (Black)</td>\n",
       "    </tr>\n",
       "    <tr>\n",
       "      <th>7</th>\n",
       "      <td></td>\n",
       "      <td>Zinq Technologies ZQ233 Wired Mouse with 1000D...</td>\n",
       "    </tr>\n",
       "    <tr>\n",
       "      <th>13</th>\n",
       "      <td>135</td>\n",
       "      <td>Dell Ms116 275-BBCB Optical Mouse</td>\n",
       "    </tr>\n",
       "    <tr>\n",
       "      <th>0</th>\n",
       "      <td>199</td>\n",
       "      <td>Zinq Technologies ZQ233 Wired Mouse with 1000D...</td>\n",
       "    </tr>\n",
       "    <tr>\n",
       "      <th>10</th>\n",
       "      <td>199</td>\n",
       "      <td>Zebronics Zeb-Rise Wired USB Optical Mouse wit...</td>\n",
       "    </tr>\n",
       "    <tr>\n",
       "      <th>14</th>\n",
       "      <td>229</td>\n",
       "      <td>Enter E-W55 Wireless Optical Mouse (Black)</td>\n",
       "    </tr>\n",
       "    <tr>\n",
       "      <th>17</th>\n",
       "      <td>299</td>\n",
       "      <td>Logitech M221 Wireless Mouse, Silent Buttons, ...</td>\n",
       "    </tr>\n",
       "    <tr>\n",
       "      <th>18</th>\n",
       "      <td>299</td>\n",
       "      <td>iBall Style 63 Optical Mouse (Black)</td>\n",
       "    </tr>\n",
       "    <tr>\n",
       "      <th>4</th>\n",
       "      <td>299</td>\n",
       "      <td>Lenovo 300 Wired USB Mouse, GX30M39704</td>\n",
       "    </tr>\n",
       "    <tr>\n",
       "      <th>3</th>\n",
       "      <td>299</td>\n",
       "      <td>Logitech M90 Wired USB Mouse, 1000 DPI Optical...</td>\n",
       "    </tr>\n",
       "    <tr>\n",
       "      <th>5</th>\n",
       "      <td>349</td>\n",
       "      <td>Logitech B170 Wireless Mouse, 2.4 GHz with USB...</td>\n",
       "    </tr>\n",
       "    <tr>\n",
       "      <th>2</th>\n",
       "      <td>349</td>\n",
       "      <td>HP X1000 Wired Mouse (Black/Grey)</td>\n",
       "    </tr>\n",
       "    <tr>\n",
       "      <th>16</th>\n",
       "      <td>349</td>\n",
       "      <td>NK STAR Wireless Mouse for Laptops, 2.4Ghz Por...</td>\n",
       "    </tr>\n",
       "    <tr>\n",
       "      <th>15</th>\n",
       "      <td>405</td>\n",
       "      <td>Quantum QHM222 3-Button 1000DPI Wired Optical ...</td>\n",
       "    </tr>\n",
       "    <tr>\n",
       "      <th>6</th>\n",
       "      <td>405</td>\n",
       "      <td>Portronics Toad 12 Wireless 2.4G Optical Mouse...</td>\n",
       "    </tr>\n",
       "    <tr>\n",
       "      <th>9</th>\n",
       "      <td>477</td>\n",
       "      <td>iBall FreeGo G20 High Speed Wireless Optical M...</td>\n",
       "    </tr>\n",
       "    <tr>\n",
       "      <th>12</th>\n",
       "      <td>499</td>\n",
       "      <td>Dell MS116 1000DPI USB Wired Optical Mouse</td>\n",
       "    </tr>\n",
       "    <tr>\n",
       "      <th>11</th>\n",
       "      <td>715</td>\n",
       "      <td>Zebronics Zeb-Alex Wired USB Optical Mouse wit...</td>\n",
       "    </tr>\n",
       "    <tr>\n",
       "      <th>1</th>\n",
       "      <td>729</td>\n",
       "      <td>Lenovo GY50R91293 400 Wireless Mouse (Black)</td>\n",
       "    </tr>\n",
       "  </tbody>\n",
       "</table>\n",
       "</div>"
      ],
      "text/plain": [
       "   Price                                              Model\n",
       "8                             HP 200 Wireless Mouse (Black)\n",
       "7         Zinq Technologies ZQ233 Wired Mouse with 1000D...\n",
       "13   135                  Dell Ms116 275-BBCB Optical Mouse\n",
       "0    199  Zinq Technologies ZQ233 Wired Mouse with 1000D...\n",
       "10   199  Zebronics Zeb-Rise Wired USB Optical Mouse wit...\n",
       "14   229         Enter E-W55 Wireless Optical Mouse (Black)\n",
       "17   299  Logitech M221 Wireless Mouse, Silent Buttons, ...\n",
       "18   299               iBall Style 63 Optical Mouse (Black)\n",
       "4    299             Lenovo 300 Wired USB Mouse, GX30M39704\n",
       "3    299  Logitech M90 Wired USB Mouse, 1000 DPI Optical...\n",
       "5    349  Logitech B170 Wireless Mouse, 2.4 GHz with USB...\n",
       "2    349                  HP X1000 Wired Mouse (Black/Grey)\n",
       "16   349  NK STAR Wireless Mouse for Laptops, 2.4Ghz Por...\n",
       "15   405  Quantum QHM222 3-Button 1000DPI Wired Optical ...\n",
       "6    405  Portronics Toad 12 Wireless 2.4G Optical Mouse...\n",
       "9    477  iBall FreeGo G20 High Speed Wireless Optical M...\n",
       "12   499         Dell MS116 1000DPI USB Wired Optical Mouse\n",
       "11   715  Zebronics Zeb-Alex Wired USB Optical Mouse wit...\n",
       "1    729       Lenovo GY50R91293 400 Wireless Mouse (Black)"
      ]
     },
     "execution_count": 132,
     "metadata": {},
     "output_type": "execute_result"
    }
   ],
   "source": [
    "df.sort_values('Price')"
   ]
  }
 ],
 "metadata": {
  "kernelspec": {
   "display_name": "Python 3",
   "language": "python",
   "name": "python3"
  },
  "language_info": {
   "codemirror_mode": {
    "name": "ipython",
    "version": 3
   },
   "file_extension": ".py",
   "mimetype": "text/x-python",
   "name": "python",
   "nbconvert_exporter": "python",
   "pygments_lexer": "ipython3",
   "version": "3.6.10"
  }
 },
 "nbformat": 4,
 "nbformat_minor": 4
}
